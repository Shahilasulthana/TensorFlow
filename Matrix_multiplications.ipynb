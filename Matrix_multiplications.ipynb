{
  "nbformat": 4,
  "nbformat_minor": 0,
  "metadata": {
    "colab": {
      "provenance": [],
      "authorship_tag": "ABX9TyO7JPBwIWBmsDkVIqkrGdDu",
      "include_colab_link": true
    },
    "kernelspec": {
      "name": "python3",
      "display_name": "Python 3"
    },
    "language_info": {
      "name": "python"
    }
  },
  "cells": [
    {
      "cell_type": "markdown",
      "metadata": {
        "id": "view-in-github",
        "colab_type": "text"
      },
      "source": [
        "<a href=\"https://colab.research.google.com/github/Shahilasulthana/TensorFlow/blob/main/Matrix_multiplications.ipynb\" target=\"_parent\"><img src=\"https://colab.research.google.com/assets/colab-badge.svg\" alt=\"Open In Colab\"/></a>"
      ]
    },
    {
      "cell_type": "code",
      "execution_count": 1,
      "metadata": {
        "id": "uTxvxT-outvj"
      },
      "outputs": [],
      "source": [
        "import tensorflow as tf"
      ]
    },
    {
      "cell_type": "code",
      "source": [
        "# 2. Matrix Multiplication:\n",
        "# Write a TensorFlow program that:\n",
        "# • Creates two compatible 2D tensors\n",
        "# o The 1-D tensor from Task 1 into a 2×3 tensor (observe any error, handle it).\n",
        "# o The 2-D tensor into shape (2,3).\n",
        "# o The 3-D tensor into a 2×6 matrix.\n",
        "# • Performs matrix multiplication using:\n",
        "# o tf.matmul(M1, M2)\n",
        "# o tf.linalg.matmul(M1, M2) (to observe any differences)\n",
        "# • Displays the result and its shape."
      ],
      "metadata": {
        "id": "w5NnaJ7gvETy"
      },
      "execution_count": null,
      "outputs": []
    },
    {
      "cell_type": "code",
      "source": [
        "tensor_1d = tf.constant([1, 2, 3, 4, 5, 6])\n",
        "tensor_2d = tf.constant([[7, 8, 9], [10, 11, 12]])\n",
        "tensor_3d = tf.constant([[[1, 2], [3, 4], [5, 6]],\n",
        "                         [[7, 8], [9, 10], [11, 12]]])\n",
        "print(\"tensor_1d\\n\",tensor_1d)\n",
        "print(\"tensor_2d\\n\",tensor_2d)\n",
        "print(\"tensor_3d\\n\",tensor_3d)"
      ],
      "metadata": {
        "colab": {
          "base_uri": "https://localhost:8080/"
        },
        "id": "Ip9_cAVLvGK7",
        "outputId": "77b59739-e6b0-4be1-e921-5e3ece7bace8"
      },
      "execution_count": 4,
      "outputs": [
        {
          "output_type": "stream",
          "name": "stdout",
          "text": [
            "tensor_1d\n",
            " tf.Tensor([1 2 3 4 5 6], shape=(6,), dtype=int32)\n",
            "tensor_2d\n",
            " tf.Tensor(\n",
            "[[ 7  8  9]\n",
            " [10 11 12]], shape=(2, 3), dtype=int32)\n",
            "tensor_3d\n",
            " tf.Tensor(\n",
            "[[[ 1  2]\n",
            "  [ 3  4]\n",
            "  [ 5  6]]\n",
            "\n",
            " [[ 7  8]\n",
            "  [ 9 10]\n",
            "  [11 12]]], shape=(2, 3, 2), dtype=int32)\n"
          ]
        }
      ]
    },
    {
      "cell_type": "code",
      "source": [
        "try:\n",
        "    reshaped_1d = tf.reshape(tensor_1d, (2, 3))\n",
        "    print(\"\\n1D reshaped to (2, 3):\\n\", reshaped_1d)\n",
        "except tf.errors.InvalidArgumentError as e:\n",
        "    print(\"Error reshaping 1D tensor:\", e)"
      ],
      "metadata": {
        "colab": {
          "base_uri": "https://localhost:8080/"
        },
        "id": "4_J8b0T0v7nD",
        "outputId": "6ad7cff7-7088-4e65-d1bc-c8f59960a5e2"
      },
      "execution_count": 5,
      "outputs": [
        {
          "output_type": "stream",
          "name": "stdout",
          "text": [
            "\n",
            "1D reshaped to (2, 3):\n",
            " tf.Tensor(\n",
            "[[1 2 3]\n",
            " [4 5 6]], shape=(2, 3), dtype=int32)\n"
          ]
        }
      ]
    },
    {
      "cell_type": "code",
      "source": [
        "reshaped_2d = tf.reshape(tensor_2d,(3,2))\n",
        "print(\"Reshaped_2d_Tensor is\", reshaped_2d)\n",
        "\n"
      ],
      "metadata": {
        "colab": {
          "base_uri": "https://localhost:8080/"
        },
        "id": "BSNwZ7Rdwesa",
        "outputId": "693cac5c-65b6-4f91-97ad-ba53fbd52efa"
      },
      "execution_count": 7,
      "outputs": [
        {
          "output_type": "stream",
          "name": "stdout",
          "text": [
            "Reshaped_2d_Tensor is tf.Tensor(\n",
            "[[ 7  8]\n",
            " [ 9 10]\n",
            " [11 12]], shape=(3, 2), dtype=int32)\n"
          ]
        }
      ]
    },
    {
      "cell_type": "code",
      "source": [
        "reshaped_3d = tf.reshape(tensor_3d,(2,6))\n",
        "print(\"Reshaped_3d_tensor is\", reshaped_3d)"
      ],
      "metadata": {
        "colab": {
          "base_uri": "https://localhost:8080/"
        },
        "id": "NFuLGJfWxKKY",
        "outputId": "a845190e-cdc7-43b6-b963-903c3792f811"
      },
      "execution_count": 8,
      "outputs": [
        {
          "output_type": "stream",
          "name": "stdout",
          "text": [
            "Reshaped_3d_tensor is tf.Tensor(\n",
            "[[ 1  2  3  4  5  6]\n",
            " [ 7  8  9 10 11 12]], shape=(2, 6), dtype=int32)\n"
          ]
        }
      ]
    },
    {
      "cell_type": "code",
      "source": [
        "tensor_matmul = tf.matmul(reshaped_1d, reshaped_2d)\n",
        "print(\"Matmul result of tensor_1d and tensor_2d is\", tensor_matmul)"
      ],
      "metadata": {
        "colab": {
          "base_uri": "https://localhost:8080/"
        },
        "id": "dRMRRnVdxtm-",
        "outputId": "b3a4d1f1-1d49-4a26-a3f2-7bdd12809018"
      },
      "execution_count": 9,
      "outputs": [
        {
          "output_type": "stream",
          "name": "stdout",
          "text": [
            "Matmul result of tensor_1d and tensor_2d is tf.Tensor(\n",
            "[[ 58  64]\n",
            " [139 154]], shape=(2, 2), dtype=int32)\n"
          ]
        }
      ]
    },
    {
      "cell_type": "code",
      "source": [
        "tensor_linmatmul = tf.linalg.matmul(reshaped_1d, reshaped_2d)\n",
        "print(\"Matmul result of tensor_1d and tensor_2d is\", tensor_linmatmul)"
      ],
      "metadata": {
        "colab": {
          "base_uri": "https://localhost:8080/"
        },
        "id": "hNS0BarizB43",
        "outputId": "77342209-1877-4ebb-ab56-564adc4c890c"
      },
      "execution_count": 10,
      "outputs": [
        {
          "output_type": "stream",
          "name": "stdout",
          "text": [
            "Matmul result of tensor_1d and tensor_2d is tf.Tensor(\n",
            "[[ 58  64]\n",
            " [139 154]], shape=(2, 2), dtype=int32)\n"
          ]
        }
      ]
    }
  ]
}