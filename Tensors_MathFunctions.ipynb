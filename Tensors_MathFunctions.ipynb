{
  "nbformat": 4,
  "nbformat_minor": 0,
  "metadata": {
    "colab": {
      "provenance": [],
      "authorship_tag": "ABX9TyPzu21BpP7oaWDSmYLxPqPA",
      "include_colab_link": true
    },
    "kernelspec": {
      "name": "python3",
      "display_name": "Python 3"
    },
    "language_info": {
      "name": "python"
    }
  },
  "cells": [
    {
      "cell_type": "markdown",
      "metadata": {
        "id": "view-in-github",
        "colab_type": "text"
      },
      "source": [
        "<a href=\"https://colab.research.google.com/github/Shahilasulthana/TensorFlow/blob/main/Tensors_MathFunctions.ipynb\" target=\"_parent\"><img src=\"https://colab.research.google.com/assets/colab-badge.svg\" alt=\"Open In Colab\"/></a>"
      ]
    },
    {
      "cell_type": "code",
      "execution_count": 1,
      "metadata": {
        "id": "xSlmuy5H1Hqk"
      },
      "outputs": [],
      "source": [
        "import tensorflow as tf"
      ]
    },
    {
      "cell_type": "code",
      "source": [
        "# 3. Mathematical Functions on Tensors:\n",
        "# Write a TensorFlow program that:\n",
        "# • Creates a tensor T = tf.constant([[-1.0, -0.5, 0.0], [0.5, 1.0, 2.0]])\n",
        "# • Applies and prints the following functions:\n",
        "# o Absolute value (tf.abs)\n",
        "# o Square root (tf.sqrt) [Handle negative values safely]\n",
        "# o Natural logarithm (tf.math.log) [Use positive tensor values only]\n",
        "# o Exponentiation (tf.exp)\n",
        "# o Sine and Cosine functions"
      ],
      "metadata": {
        "id": "_OyNCvMH15or"
      },
      "execution_count": null,
      "outputs": []
    },
    {
      "cell_type": "code",
      "source": [
        "tensor = tf.constant([[-1.0, -0.5, 0.0], [0.5, 1.0, 2.0]])\n",
        "\n",
        "abs_value = tf.abs(tensor)\n",
        "print(\"Absolute Value:\")\n",
        "print(abs_value.numpy())\n",
        "\n",
        "sqrt_value = tf.sqrt(tf.abs(tensor))\n",
        "print(\"\\nSquare Root:\")\n",
        "print(sqrt_value.numpy())\n",
        "\n",
        "log_value = tf.math.log(tf.abs(tensor))\n",
        "print(\"\\nNatural Logarithm:\")\n",
        "print(log_value.numpy())\n",
        "\n",
        "exp_value = tf.exp(tensor)\n",
        "print(\"\\nExponentiation:\")\n",
        "print(exp_value.numpy())\n",
        "\n",
        "sin_value = tf.sin(tensor)\n",
        "print(\"\\nSine functions values are:\")\n",
        "print(sin_value.numpy())\n",
        "\n",
        "\n",
        "cos_value = tf.cos(tensor)\n",
        "print(\"\\nCosine functions values are:\")\n",
        "print(cos_value.numpy())"
      ],
      "metadata": {
        "colab": {
          "base_uri": "https://localhost:8080/"
        },
        "id": "Li14d0hl18ht",
        "outputId": "c95ceecf-8eff-4b73-cbc8-ba03c442ff22"
      },
      "execution_count": 4,
      "outputs": [
        {
          "output_type": "stream",
          "name": "stdout",
          "text": [
            "Absolute Value:\n",
            "[[1.  0.5 0. ]\n",
            " [0.5 1.  2. ]]\n",
            "\n",
            "Square Root:\n",
            "[[1.         0.70710677 0.        ]\n",
            " [0.70710677 1.         1.4142135 ]]\n",
            "\n",
            "Natural Logarithm:\n",
            "[[ 0.        -0.6931472       -inf]\n",
            " [-0.6931472  0.         0.6931472]]\n",
            "\n",
            "Exponentiation:\n",
            "[[0.36787945 0.60653067 1.        ]\n",
            " [1.6487212  2.7182817  7.389056  ]]\n",
            "\n",
            "Sine functions values are:\n",
            "[[-0.84147096 -0.47942555  0.        ]\n",
            " [ 0.47942555  0.84147096  0.9092974 ]]\n",
            "\n",
            "Cosine functions values are:\n",
            "[[ 0.5403023   0.87758255  1.        ]\n",
            " [ 0.87758255  0.5403023  -0.41614684]]\n"
          ]
        }
      ]
    }
  ]
}