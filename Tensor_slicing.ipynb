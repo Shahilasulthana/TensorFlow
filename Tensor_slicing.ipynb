{
  "nbformat": 4,
  "nbformat_minor": 0,
  "metadata": {
    "colab": {
      "provenance": [],
      "authorship_tag": "ABX9TyPOmFgiHNjgF9OhC2xElNrG",
      "include_colab_link": true
    },
    "kernelspec": {
      "name": "python3",
      "display_name": "Python 3"
    },
    "language_info": {
      "name": "python"
    }
  },
  "cells": [
    {
      "cell_type": "markdown",
      "metadata": {
        "id": "view-in-github",
        "colab_type": "text"
      },
      "source": [
        "<a href=\"https://colab.research.google.com/github/Shahilasulthana/TensorFlow/blob/main/Tensor_slicing.ipynb\" target=\"_parent\"><img src=\"https://colab.research.google.com/assets/colab-badge.svg\" alt=\"Open In Colab\"/></a>"
      ]
    },
    {
      "cell_type": "code",
      "execution_count": null,
      "metadata": {
        "colab": {
          "base_uri": "https://localhost:8080/"
        },
        "id": "xr9rHv-lEjCt",
        "outputId": "d1792be8-81b2-41ff-9ec9-6f535b8b09a7"
      },
      "outputs": [
        {
          "output_type": "stream",
          "name": "stdout",
          "text": [
            "Original Tensor:\n",
            "[[1 2 3]\n",
            " [4 5 6]\n",
            " [7 8 9]]\n",
            "\n",
            "First Row:\n",
            "[1 2 3]\n",
            "\n",
            "Second Row:\n",
            "[4 5 6]\n",
            "\n",
            "Bottom-right Element:\n",
            "9\n",
            "\n",
            "2×2 Submatrix (Top-left):\n",
            "[[1 2]\n",
            " [4 5]]\n"
          ]
        }
      ],
      "source": [
        "import tensorflow as tf\n",
        "\n",
        "# Create a 3×3 tensor of integers\n",
        "tensor = tf.constant([\n",
        "    [1, 2, 3],\n",
        "    [4, 5, 6],\n",
        "    [7, 8, 9]\n",
        "])\n",
        "\n",
        "print(\"Original Tensor:\")\n",
        "print(tensor.numpy())\n",
        "\n",
        "# First row\n",
        "first_row = tensor[0]\n",
        "print(\"\\nFirst Row:\")\n",
        "print(first_row.numpy())\n",
        "\n",
        "# Second row\n",
        "second_row = tensor[1]\n",
        "print(\"\\nSecond Row:\")\n",
        "print(second_row.numpy())\n",
        "\n",
        "# Bottom-right element (row 2, col 2)\n",
        "bottom_right = tensor[2, 2]\n",
        "print(\"\\nBottom-right Element:\")\n",
        "print(bottom_right.numpy())\n",
        "\n",
        "# 2×2 submatrix (top-left corner)\n",
        "submatrix = tensor[0:2, 0:2]\n",
        "print(\"\\n2×2 Submatrix (Top-left):\")\n",
        "print(submatrix.numpy())\n"
      ]
    }
  ]
}