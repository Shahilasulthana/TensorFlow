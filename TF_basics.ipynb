{
  "nbformat": 4,
  "nbformat_minor": 0,
  "metadata": {
    "colab": {
      "provenance": []
    },
    "kernelspec": {
      "name": "python3",
      "display_name": "Python 3"
    },
    "language_info": {
      "name": "python"
    }
  },
  "cells": [
    {
      "cell_type": "code",
      "execution_count": null,
      "metadata": {
        "colab": {
          "base_uri": "https://localhost:8080/"
        },
        "id": "ADGAuzGYvbgS",
        "outputId": "029134a9-5f33-45f1-ccd1-72e683947e79"
      },
      "outputs": [
        {
          "output_type": "stream",
          "name": "stdout",
          "text": [
            "TensorFlow version: 2.18.0\n"
          ]
        }
      ],
      "source": [
        "# Installed tensorflow version 2.18.0\n",
        "import tensorflow as tf\n",
        "print(\"TensorFlow version:\",tf.__version__)"
      ]
    },
    {
      "cell_type": "code",
      "source": [
        "def information(tensor, name):\n",
        "  print(name)\n",
        "  print(\"\\n Value:\", tensor.numpy())\n",
        "  print(\"Shape:\", tensor.shape)\n",
        "  print(\"DataType:\", tensor.dtype)\n",
        "  print(\"Rank:\", tf.rank(tensor))\n",
        "  print(\"Size:\", tf.size(tensor))\n",
        "\n"
      ],
      "metadata": {
        "id": "tMI2U40gxauN"
      },
      "execution_count": null,
      "outputs": []
    },
    {
      "cell_type": "code",
      "source": [
        "# A scalar (0-D tensor) with an integer value.\n",
        "\n",
        "scalar = tf.constant(52)\n",
        "information(scalar, \"scalar(0-D tensor)\")\n"
      ],
      "metadata": {
        "colab": {
          "base_uri": "https://localhost:8080/"
        },
        "id": "bZHlFub2wr_I",
        "outputId": "33356aaf-34d7-4fc8-cbce-4ef540d6e0cd"
      },
      "execution_count": null,
      "outputs": [
        {
          "output_type": "stream",
          "name": "stdout",
          "text": [
            "scalar(0-D tensor)\n",
            "\n",
            " Value: 52\n",
            "Shape: ()\n",
            "DataType: <dtype: 'int32'>\n",
            "Rank: tf.Tensor(0, shape=(), dtype=int32)\n",
            "Size: tf.Tensor(1, shape=(), dtype=int32)\n"
          ]
        }
      ]
    },
    {
      "cell_type": "code",
      "source": [
        "# A vector (1-D tensor) with 5 elements.\n",
        "\n",
        "vector = tf.constant([10, 20, 30, 40, 50])\n",
        "information(vector,\"vector(1-D tensor)\")"
      ],
      "metadata": {
        "colab": {
          "base_uri": "https://localhost:8080/"
        },
        "id": "5LgZNL6QzEUb",
        "outputId": "1c5f3622-a940-46fd-bf15-0fe3ed8a8fe3"
      },
      "execution_count": null,
      "outputs": [
        {
          "output_type": "stream",
          "name": "stdout",
          "text": [
            "vector(1-D tensor)\n",
            "\n",
            " Value: [10 20 30 40 50]\n",
            "Shape: (5,)\n",
            "DataType: <dtype: 'int32'>\n",
            "Rank: tf.Tensor(1, shape=(), dtype=int32)\n",
            "Size: tf.Tensor(5, shape=(), dtype=int32)\n"
          ]
        }
      ]
    },
    {
      "cell_type": "code",
      "source": [
        "# A matrix (2-D tensor) of size 3×2.\n",
        "\n",
        "matrix = tf.constant([[10,2], [20,4], [30,6]])\n",
        "information(matrix, \"matrix(2-D) tensor\")"
      ],
      "metadata": {
        "colab": {
          "base_uri": "https://localhost:8080/"
        },
        "id": "_Z3TUhPOzocr",
        "outputId": "29bc1588-fc83-4162-d008-ed93f77703d9"
      },
      "execution_count": null,
      "outputs": [
        {
          "output_type": "stream",
          "name": "stdout",
          "text": [
            "matrix(2-D) tensor\n",
            "\n",
            " Value: [[10  2]\n",
            " [20  4]\n",
            " [30  6]]\n",
            "Shape: (3, 2)\n",
            "DataType: <dtype: 'int32'>\n",
            "Rank: tf.Tensor(2, shape=(), dtype=int32)\n",
            "Size: tf.Tensor(6, shape=(), dtype=int32)\n"
          ]
        }
      ]
    },
    {
      "cell_type": "code",
      "source": [
        "  # A 3-D tensor of shape 2×2×3.\n",
        "\n",
        "  tensor_3d = tf.constant([\n",
        "      [[1, 2, 3],\n",
        "      [4, 5, 6]],\n",
        "      [[7, 8, 9],\n",
        "      [10, 11, 12]]\n",
        "  ])\n",
        "  information(tensor_3d, \"3-D Tensor (2×2×3)\")"
      ],
      "metadata": {
        "colab": {
          "base_uri": "https://localhost:8080/"
        },
        "id": "-jLylW5Jz9fb",
        "outputId": "5f6cb8b1-f772-4f67-a77b-93d8a08977a7"
      },
      "execution_count": null,
      "outputs": [
        {
          "output_type": "stream",
          "name": "stdout",
          "text": [
            "3-D Tensor (2×2×3)\n",
            "\n",
            " Value: [[[ 1  2  3]\n",
            "  [ 4  5  6]]\n",
            "\n",
            " [[ 7  8  9]\n",
            "  [10 11 12]]]\n",
            "Shape: (2, 2, 3)\n",
            "DataType: <dtype: 'int32'>\n",
            "Rank: tf.Tensor(3, shape=(), dtype=int32)\n",
            "Size: tf.Tensor(12, shape=(), dtype=int32)\n"
          ]
        }
      ]
    },
    {
      "cell_type": "code",
      "source": [
        "# 3×3 tensor filled with zeros\n",
        "\n",
        "tensor_0 = tf.zeros([3, 3])\n",
        "information(tensor_0, \"3×3 tensor with all zeroes\")"
      ],
      "metadata": {
        "colab": {
          "base_uri": "https://localhost:8080/"
        },
        "id": "P1d0iBD901IZ",
        "outputId": "cd02a1e4-602f-42e7-e740-1528725b34d1"
      },
      "execution_count": null,
      "outputs": [
        {
          "output_type": "stream",
          "name": "stdout",
          "text": [
            "3×3 tensor with all zeroes\n",
            "\n",
            " Value: [[0. 0. 0.]\n",
            " [0. 0. 0.]\n",
            " [0. 0. 0.]]\n",
            "Shape: (3, 3)\n",
            "DataType: <dtype: 'float32'>\n",
            "Rank: tf.Tensor(2, shape=(), dtype=int32)\n",
            "Size: tf.Tensor(9, shape=(), dtype=int32)\n"
          ]
        }
      ]
    },
    {
      "cell_type": "code",
      "source": [
        "# A 2×4 tensor filled with ones.\n",
        "\n",
        "tensor_1 = tf.ones([2,4])\n",
        "information(tensor_1, \"2x4 tensor with all ones\")"
      ],
      "metadata": {
        "colab": {
          "base_uri": "https://localhost:8080/"
        },
        "id": "Fs1fhBaw1GdX",
        "outputId": "41ba41e5-3c04-464b-8b57-69316622e0d4"
      },
      "execution_count": null,
      "outputs": [
        {
          "output_type": "stream",
          "name": "stdout",
          "text": [
            "2x4 tensor with all ones\n",
            "\n",
            " Value: [[1. 1. 1. 1.]\n",
            " [1. 1. 1. 1.]]\n",
            "Shape: (2, 4)\n",
            "DataType: <dtype: 'float32'>\n",
            "Rank: tf.Tensor(2, shape=(), dtype=int32)\n",
            "Size: tf.Tensor(8, shape=(), dtype=int32)\n"
          ]
        }
      ]
    },
    {
      "cell_type": "code",
      "source": [
        "# A 2×2×2 tensor filled with a constant (e.g., 7).\n",
        "\n",
        "tensor_const = tf.fill([2,2,2], 7)\n",
        "information(tensor_const,\"2x2x2 tensor with all 7\")"
      ],
      "metadata": {
        "colab": {
          "base_uri": "https://localhost:8080/"
        },
        "id": "8LHulB5n1Ygn",
        "outputId": "c900e7cb-ac9e-4d58-9fce-7d1b8d04432e"
      },
      "execution_count": null,
      "outputs": [
        {
          "output_type": "stream",
          "name": "stdout",
          "text": [
            "2x2x2 tensor with all 7\n",
            "\n",
            " Value: [[[7 7]\n",
            "  [7 7]]\n",
            "\n",
            " [[7 7]\n",
            "  [7 7]]]\n",
            "Shape: (2, 2, 2)\n",
            "DataType: <dtype: 'int32'>\n",
            "Rank: tf.Tensor(3, shape=(), dtype=int32)\n",
            "Size: tf.Tensor(8, shape=(), dtype=int32)\n"
          ]
        }
      ]
    },
    {
      "cell_type": "code",
      "source": [
        "# A 3×3 tensor of random normal values (mean 0, stddev 1).\n",
        "\n",
        "tensor_random = tf.random.normal(shape = [3,3], mean=0, stddev=1)\n",
        "information(tensor_random,\"A 3×3 tensor of random normal values with (mean 0, stddev 1)\")"
      ],
      "metadata": {
        "colab": {
          "base_uri": "https://localhost:8080/"
        },
        "id": "VG0L8qhh2G1D",
        "outputId": "a6959f71-e622-4b0a-c4ac-be464b075954"
      },
      "execution_count": null,
      "outputs": [
        {
          "output_type": "stream",
          "name": "stdout",
          "text": [
            "A 3×3 tensor of random normal values with (mean 0, stddev 1)\n",
            "\n",
            " Value: [[ 1.2225748  -0.20275645  1.2880249 ]\n",
            " [ 0.53541607 -0.27951944 -0.960105  ]\n",
            " [ 0.12129392 -0.00987377  0.7935276 ]]\n",
            "Shape: (3, 3)\n",
            "DataType: <dtype: 'float32'>\n",
            "Rank: tf.Tensor(2, shape=(), dtype=int32)\n",
            "Size: tf.Tensor(9, shape=(), dtype=int32)\n"
          ]
        }
      ]
    },
    {
      "cell_type": "code",
      "source": [
        "# 2×3 tensor of random uniform values between 0 and 10\n",
        "\n",
        "uniform_tensor = tf.random.uniform(shape=[2, 3], minval=0, maxval=10)\n",
        "information(uniform_tensor, \"2×3 Tensor with Random Uniform Values (0-10)\")"
      ],
      "metadata": {
        "colab": {
          "base_uri": "https://localhost:8080/"
        },
        "id": "CrSmkFVI--Bf",
        "outputId": "6a5f1589-591b-408c-86af-00360bb6c77d"
      },
      "execution_count": null,
      "outputs": [
        {
          "output_type": "stream",
          "name": "stdout",
          "text": [
            "2×3 Tensor with Random Uniform Values (0-10)\n",
            "\n",
            " Value: [[7.0263696 2.393608  3.528105 ]\n",
            " [8.3014145 3.1526673 0.8182752]]\n",
            "Shape: (2, 3)\n",
            "DataType: <dtype: 'float32'>\n",
            "Rank: tf.Tensor(2, shape=(), dtype=int32)\n",
            "Size: tf.Tensor(6, shape=(), dtype=int32)\n"
          ]
        }
      ]
    }
  ]
}