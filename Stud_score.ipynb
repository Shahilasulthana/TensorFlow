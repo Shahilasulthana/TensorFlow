{
  "nbformat": 4,
  "nbformat_minor": 0,
  "metadata": {
    "colab": {
      "provenance": [],
      "authorship_tag": "ABX9TyO6p0K8oFtx+1IVDb/ijVXS",
      "include_colab_link": true
    },
    "kernelspec": {
      "name": "python3",
      "display_name": "Python 3"
    },
    "language_info": {
      "name": "python"
    }
  },
  "cells": [
    {
      "cell_type": "markdown",
      "metadata": {
        "id": "view-in-github",
        "colab_type": "text"
      },
      "source": [
        "<a href=\"https://colab.research.google.com/github/Shahilasulthana/TensorFlow/blob/main/Stud_score.ipynb\" target=\"_parent\"><img src=\"https://colab.research.google.com/assets/colab-badge.svg\" alt=\"Open In Colab\"/></a>"
      ]
    },
    {
      "cell_type": "code",
      "execution_count": 1,
      "metadata": {
        "id": "n8MxcSZy3nLv"
      },
      "outputs": [],
      "source": [
        "import tensorflow as tf"
      ]
    },
    {
      "cell_type": "code",
      "source": [
        "# 1. Create a 2D tensor called student_scores, where:\n",
        "# • Each row represents a student.\n",
        "# • Each column represents a subject score in the order: Math, Science, English.\n",
        "\n",
        "# Example:\n",
        "# [[85, 90, 75], [92, 88, 80], [78, 95, 85]]\n",
        "\n",
        "# 2. Create a 1D tensor called subject_weights, representing the relative importance of each\n",
        "# subject:\n",
        "# • The weights should be in the same order: Math, Science, English.\n",
        "# • The sum of weights must equal 1.0.\n",
        "\n",
        "# Example:\n",
        "# [0.4, 0.3, 0.3]\n",
        "\n",
        "# 3. Compute the final academic score for each student using the following steps:\n",
        "# • Perform element-wise multiplication of each student's scores with the\n",
        "# corresponding subject weights.\n",
        "# • Sum the weighted scores to get a single academic score per student."
      ],
      "metadata": {
        "id": "N4nRdFml3wKz"
      },
      "execution_count": null,
      "outputs": []
    },
    {
      "cell_type": "code",
      "source": [
        "stud_score = tf.constant([[85, 90, 75], [92, 88, 80], [78, 95, 85]], dtype=tf.float32)\n",
        "\n",
        "sub_weights = tf.constant([0.4, 0.3, 0.3], dtype=tf.float32)\n",
        "\n",
        "weighted_score = tf.multiply(stud_score, sub_weights)\n",
        "\n",
        "final_score = tf.reduce_sum(weighted_score, axis=1)\n",
        "\n",
        "print(\"Final Academic Scores:\")\n",
        "print(final_score.numpy())"
      ],
      "metadata": {
        "colab": {
          "base_uri": "https://localhost:8080/"
        },
        "id": "f9GzGxyu4dpj",
        "outputId": "a97092ea-d370-456d-e0d0-721862607c9f"
      },
      "execution_count": 6,
      "outputs": [
        {
          "output_type": "stream",
          "name": "stdout",
          "text": [
            "Final Academic Scores:\n",
            "[83.5      87.2      85.200005]\n"
          ]
        }
      ]
    }
  ]
}