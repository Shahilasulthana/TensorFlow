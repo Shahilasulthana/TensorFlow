{
  "nbformat": 4,
  "nbformat_minor": 0,
  "metadata": {
    "colab": {
      "provenance": [],
      "authorship_tag": "ABX9TyOSfKtJXrAwEX8JBteabM5l",
      "include_colab_link": true
    },
    "kernelspec": {
      "name": "python3",
      "display_name": "Python 3"
    },
    "language_info": {
      "name": "python"
    }
  },
  "cells": [
    {
      "cell_type": "markdown",
      "metadata": {
        "id": "view-in-github",
        "colab_type": "text"
      },
      "source": [
        "<a href=\"https://colab.research.google.com/github/Shahilasulthana/TensorFlow/blob/main/Basics_summary.ipynb\" target=\"_parent\"><img src=\"https://colab.research.google.com/assets/colab-badge.svg\" alt=\"Open In Colab\"/></a>"
      ]
    },
    {
      "cell_type": "code",
      "execution_count": 3,
      "metadata": {
        "colab": {
          "base_uri": "https://localhost:8080/"
        },
        "id": "SVCArCgCF0oX",
        "outputId": "e43519ab-8d3e-4754-f95c-25aa7cda18b7"
      },
      "outputs": [
        {
          "output_type": "stream",
          "name": "stdout",
          "text": [
            "Original Tensor:\n",
            "Values:\n",
            " [[2 4 4]\n",
            " [6 4 2]]\n",
            "Shape: (2, 3)\n",
            "Dtype: <dtype: 'int32'>\n",
            "Rank: 2\n",
            "\n",
            "After Reshape to 3x2:\n",
            "Values:\n",
            " [[2 4]\n",
            " [4 6]\n",
            " [4 2]]\n",
            "Shape: (3, 2)\n",
            "Dtype: <dtype: 'int32'>\n",
            "Rank: 2\n",
            "\n",
            "After Converting to float32:\n",
            "Values:\n",
            " [[2. 4.]\n",
            " [4. 6.]\n",
            " [4. 2.]]\n",
            "Shape: (3, 2)\n",
            "Dtype: <dtype: 'float32'>\n",
            "Rank: 2\n",
            "\n",
            "After Adding 0.5:\n",
            "Values:\n",
            " [[2.5 4.5]\n",
            " [4.5 6.5]\n",
            " [4.5 2.5]]\n",
            "Shape: (3, 2)\n",
            "Dtype: <dtype: 'float32'>\n",
            "Rank: 2\n"
          ]
        }
      ],
      "source": [
        "import tensorflow as tf\n",
        "\n",
        "# Creating a 2x3 tensor of random integers between 0 and 10\n",
        "tensor = tf.random.uniform(shape=(2,3), minval=0, maxval=10, dtype=tf.int32)\n",
        "print(\"Original Tensor:\")\n",
        "print(\"Values:\\n\", tensor.numpy())\n",
        "print(\"Shape:\", tensor.shape)\n",
        "print(\"Dtype:\", tensor.dtype)\n",
        "print(\"Rank:\", tf.rank(tensor).numpy())\n",
        "\n",
        "# Reshaping to 3x2\n",
        "tensor = tf.reshape(tensor, shape=(3,2))\n",
        "print(\"\\nAfter Reshape to 3x2:\")\n",
        "print(\"Values:\\n\", tensor.numpy())\n",
        "print(\"Shape:\", tensor.shape)\n",
        "print(\"Dtype:\", tensor.dtype)\n",
        "print(\"Rank:\", tf.rank(tensor).numpy())\n",
        "\n",
        "# Converting to float32tensor = tf.cast(tensor, dtype=tf.float32)\n",
        "print(\"\\nAfter Converting to float32:\")\n",
        "print(\"Values:\\n\", tensor.numpy())\n",
        "print(\"Shape:\", tensor.shape)\n",
        "print(\"Dtype:\", tensor.dtype)\n",
        "print(\"Rank:\", tf.rank(tensor).numpy())\n",
        "\n",
        "# Adding 0.5 to all elements\n",
        "tensor = tf.add(tensor, 0.5)\n",
        "print(\"\\nAfter Adding 0.5:\")\n",
        "print(\"Values:\\n\", tensor.numpy())\n",
        "print(\"Shape:\", tensor.shape)\n",
        "print(\"Dtype:\", tensor.dtype)\n",
        "print(\"Rank:\", tf.rank(tensor).numpy())\n",
        "\n"
      ]
    }
  ]
}