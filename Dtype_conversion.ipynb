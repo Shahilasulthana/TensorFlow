{
  "nbformat": 4,
  "nbformat_minor": 0,
  "metadata": {
    "colab": {
      "provenance": [],
      "authorship_tag": "ABX9TyNdk3bB9Lc9ERoHg8r72XW9",
      "include_colab_link": true
    },
    "kernelspec": {
      "name": "python3",
      "display_name": "Python 3"
    },
    "language_info": {
      "name": "python"
    }
  },
  "cells": [
    {
      "cell_type": "markdown",
      "metadata": {
        "id": "view-in-github",
        "colab_type": "text"
      },
      "source": [
        "<a href=\"https://colab.research.google.com/github/Shahilasulthana/TensorFlow/blob/main/Dtype_conversion.ipynb\" target=\"_parent\"><img src=\"https://colab.research.google.com/assets/colab-badge.svg\" alt=\"Open In Colab\"/></a>"
      ]
    },
    {
      "cell_type": "code",
      "execution_count": null,
      "metadata": {
        "colab": {
          "base_uri": "https://localhost:8080/"
        },
        "id": "Ccyo722sE-Z_",
        "outputId": "23b5d1ed-c988-40d8-9b79-4a6ab8f2d3f8"
      },
      "outputs": [
        {
          "output_type": "stream",
          "name": "stdout",
          "text": [
            "Original Tensor:\n",
            "[1 2 3]\n",
            "Original dtype: <dtype: 'int32'>\n",
            "\n",
            "Converted Tensor:\n",
            "[1. 2. 3.]\n",
            "New dtype: <dtype: 'float32'>\n"
          ]
        }
      ],
      "source": [
        "import tensorflow as tf\n",
        "\n",
        "# Create an integer tensor\n",
        "int_tensor = tf.constant([1, 2, 3], dtype=tf.int32)\n",
        "print(\"Original Tensor:\")\n",
        "print(int_tensor.numpy())\n",
        "print(\"Original dtype:\", int_tensor.dtype)\n",
        "\n",
        "# Convert to float32\n",
        "float_tensor = tf.cast(int_tensor, dtype=tf.float32)\n",
        "print(\"\\nConverted Tensor:\")\n",
        "print(float_tensor.numpy())\n",
        "print(\"New dtype:\", float_tensor.dtype)\n"
      ]
    }
  ]
}