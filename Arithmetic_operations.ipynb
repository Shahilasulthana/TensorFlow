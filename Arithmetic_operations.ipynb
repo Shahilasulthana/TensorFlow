{
  "nbformat": 4,
  "nbformat_minor": 0,
  "metadata": {
    "colab": {
      "provenance": [],
      "authorship_tag": "ABX9TyP41/I78ytu4+bA5Pvph5nW",
      "include_colab_link": true
    },
    "kernelspec": {
      "name": "python3",
      "display_name": "Python 3"
    },
    "language_info": {
      "name": "python"
    }
  },
  "cells": [
    {
      "cell_type": "markdown",
      "metadata": {
        "id": "view-in-github",
        "colab_type": "text"
      },
      "source": [
        "<a href=\"https://colab.research.google.com/github/Shahilasulthana/TensorFlow/blob/main/Arithmetic_operations.ipynb\" target=\"_parent\"><img src=\"https://colab.research.google.com/assets/colab-badge.svg\" alt=\"Open In Colab\"/></a>"
      ]
    },
    {
      "cell_type": "code",
      "execution_count": 1,
      "metadata": {
        "id": "AWVD5roDqIwt"
      },
      "outputs": [],
      "source": [
        "import tensorflow as tf"
      ]
    },
    {
      "cell_type": "code",
      "source": [
        "#\n",
        "# Write a TensorFlow program that:\n",
        "# • Create two tensors, perform and print the results of the following operations:\n",
        "# o Addition (A + B)\n",
        "# o Subtraction (A - B)\n",
        "# o Element-wise multiplication (A * B)\n",
        "# o Element-wise division (A / B)\n",
        "# o Element-wise exponentiation (A ** 2)\n",
        "#"
      ],
      "metadata": {
        "id": "B3Mw6z_tqb1O"
      },
      "execution_count": null,
      "outputs": []
    },
    {
      "cell_type": "code",
      "source": [
        "tensor_a = tf.constant([1,2,3,4,5])\n",
        "tensor_b = tf.constant([10,20,30,40,50])\n",
        "print(\"Tensor_a\", tensor_a)\n",
        "print(\"Tensor_b\", tensor_b)\n",
        "# arithmetic operations\n",
        "print(\"\\nAddition\", tf.add(tensor_a, tensor_b))\n",
        "print(\"\\nSubtraction\", tf.subtract(tensor_a, tensor_b))\n",
        "print(\"\\nMultiplication\", tf.multiply(tensor_a, tensor_b))\n",
        "print(\"\\nDivision\", tf.divide(tensor_a, tensor_b))\n",
        "print(\"\\nExponentiation of tensor_a\", tf.pow(tensor_a, 2))\n",
        "print(\"\\nExponentiation of tensor_b\",tf.pow(tensor_b,2))"
      ],
      "metadata": {
        "colab": {
          "base_uri": "https://localhost:8080/"
        },
        "id": "r0fU8cfQrE4b",
        "outputId": "181d308e-f238-43fd-d881-3e7330e95377"
      },
      "execution_count": 4,
      "outputs": [
        {
          "output_type": "stream",
          "name": "stdout",
          "text": [
            "Tensor_a tf.Tensor([1 2 3 4 5], shape=(5,), dtype=int32)\n",
            "Tensor_b tf.Tensor([10 20 30 40 50], shape=(5,), dtype=int32)\n",
            "\n",
            "Addition tf.Tensor([11 22 33 44 55], shape=(5,), dtype=int32)\n",
            "\n",
            "Subtraction tf.Tensor([ -9 -18 -27 -36 -45], shape=(5,), dtype=int32)\n",
            "\n",
            "Multiplication tf.Tensor([ 10  40  90 160 250], shape=(5,), dtype=int32)\n",
            "\n",
            "Division tf.Tensor([0.1 0.1 0.1 0.1 0.1], shape=(5,), dtype=float64)\n",
            "\n",
            "Exponentiation of tensor_a tf.Tensor([ 1  4  9 16 25], shape=(5,), dtype=int32)\n",
            "\n",
            "Exponentiation of tensor_b tf.Tensor([ 100  400  900 1600 2500], shape=(5,), dtype=int32)\n"
          ]
        }
      ]
    }
  ]
}